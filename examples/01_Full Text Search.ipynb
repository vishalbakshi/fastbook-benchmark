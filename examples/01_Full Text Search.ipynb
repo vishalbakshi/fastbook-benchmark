{
  "nbformat": 4,
  "nbformat_minor": 0,
  "metadata": {
    "colab": {
      "provenance": [],
      "gpuType": "T4"
    },
    "kernelspec": {
      "name": "python3",
      "display_name": "Python 3"
    },
    "language_info": {
      "name": "python"
    },
    "accelerator": "GPU"
  },
  "cells": [
    {
      "cell_type": "markdown",
      "source": [
        "## Setup"
      ],
      "metadata": {
        "id": "iamhQ6tqbk2j"
      }
    },
    {
      "cell_type": "code",
      "execution_count": null,
      "metadata": {
        "id": "_pbItu92bSzY"
      },
      "outputs": [],
      "source": [
        "!pip install llama-index -qq\n",
        "!pip install -qq RAGatouille\n",
        "!pip install ftfy -qq\n",
        "\n",
        "import sqlite3\n",
        "import json\n",
        "import re\n",
        "import os\n",
        "import pandas as pd, numpy as np\n",
        "import requests\n",
        "from ftfy import fix_text\n",
        "from ragatouille.data import CorpusProcessor\n",
        "from llama_index.core.text_splitter import SentenceSplitter\n",
        "\n",
        "corpus_processor = CorpusProcessor()"
      ]
    },
    {
      "cell_type": "markdown",
      "source": [
        "Make sure to download [utils.py](https://github.com/vishalbakshi/fastbook-benchmark/blob/main/examples/utils.py) and save it locally."
      ],
      "metadata": {
        "id": "u-qrCwDtU20U"
      }
    },
    {
      "cell_type": "code",
      "source": [
        "from utils import *"
      ],
      "metadata": {
        "id": "IaSd6VBBRQk0"
      },
      "execution_count": 2,
      "outputs": []
    },
    {
      "cell_type": "markdown",
      "source": [
        "### Download Data"
      ],
      "metadata": {
        "id": "Lpn_rdyqbn-A"
      }
    },
    {
      "cell_type": "code",
      "source": [
        "nbs = download_data()\n",
        "nbs"
      ],
      "metadata": {
        "colab": {
          "base_uri": "https://localhost:8080/"
        },
        "id": "z_qDx-G8DR9Z",
        "outputId": "b08b75c4-1c45-4136-a247-d6d17405d13d"
      },
      "execution_count": 19,
      "outputs": [
        {
          "output_type": "execute_result",
          "data": {
            "text/plain": [
              "{'1': '01_intro.ipynb',\n",
              " '2': '02_production.ipynb',\n",
              " '4': '04_mnist_basics.ipynb',\n",
              " '8': '08_collab.ipynb',\n",
              " '9': '09_tabular.ipynb',\n",
              " '10': '10_nlp.ipynb',\n",
              " '13': '13_convolutions.ipynb'}"
            ]
          },
          "metadata": {},
          "execution_count": 19
        }
      ]
    },
    {
      "cell_type": "code",
      "source": [
        "data = get_data(nbs)"
      ],
      "metadata": {
        "id": "3_ZLbq-rD7MD"
      },
      "execution_count": 20,
      "outputs": []
    },
    {
      "cell_type": "markdown",
      "source": [
        "## Load Database"
      ],
      "metadata": {
        "id": "arTvcGm_ce2G"
      }
    },
    {
      "cell_type": "code",
      "source": [
        "chunk_size = 500\n",
        "db_path = 'fastbook.db'\n",
        "chapter = '1'\n",
        "chunk_size, db_path, chapter"
      ],
      "metadata": {
        "colab": {
          "base_uri": "https://localhost:8080/"
        },
        "id": "lECuLIpKDPQK",
        "outputId": "9088da9a-56ac-4dec-b5b6-c7b735c55f2c"
      },
      "execution_count": 21,
      "outputs": [
        {
          "output_type": "execute_result",
          "data": {
            "text/plain": [
              "(500, 'fastbook.db', '1')"
            ]
          },
          "metadata": {},
          "execution_count": 21
        }
      ]
    },
    {
      "cell_type": "code",
      "source": [
        "# create virtual table\n",
        "if not os.path.exists(db_path):\n",
        "    with sqlite3.connect(db_path) as conn:\n",
        "        cur = conn.cursor()\n",
        "        cur.execute(\"\"\"\n",
        "                CREATE VIRTUAL TABLE fastbook_text\n",
        "                USING FTS5(chapter, text);\n",
        "                \"\"\")\n",
        "        conn.commit()"
      ],
      "metadata": {
        "id": "VWEnBpUVEHG3"
      },
      "execution_count": 25,
      "outputs": []
    },
    {
      "cell_type": "code",
      "source": [
        "documents = process_documents(data['1'], chunk_size=chunk_size)\n",
        "assert len(documents) == 57"
      ],
      "metadata": {
        "id": "nNMoOwXbEZkv"
      },
      "execution_count": 26,
      "outputs": []
    },
    {
      "cell_type": "code",
      "source": [
        "# load in the chunks for each chapter\n",
        "with sqlite3.connect(db_path) as conn:\n",
        "    cur = conn.cursor()\n",
        "    for doc in documents: cur.execute(\"INSERT INTO fastbook_text(chapter, text) VALUES (?, ?)\", (chapter, doc))\n",
        "    conn.commit()\n",
        "    res = cur.execute(\"SELECT * FROM fastbook_text WHERE chapter = ?\", (chapter,)).fetchall()\n",
        "    assert len(res) == len(documents)"
      ],
      "metadata": {
        "id": "E1mCXpE4Efxj"
      },
      "execution_count": 27,
      "outputs": []
    },
    {
      "cell_type": "code",
      "source": [
        "res[0]"
      ],
      "metadata": {
        "colab": {
          "base_uri": "https://localhost:8080/"
        },
        "id": "mhhspudiEzrs",
        "outputId": "dd198ba5-98e6-4bd8-d3ad-8c7efe571522"
      },
      "execution_count": 28,
      "outputs": [
        {
          "output_type": "execute_result",
          "data": {
            "text/plain": [
              "('1',\n",
              " '#hide\\n! [ -e /content ] && pip install -Uqq fastbook\\nimport fastbook\\nfastbook.setup_book()\\n#hide\\nfrom fastbook import *\\n# Your Deep Learning Journey\\nHello, and thank you for letting us join you on your deep learning journey, however far along that you may be! In this chapter, we will tell you a little bit more about what to expect in this book, introduce the key concepts behind deep learning, and train our first models on different tasks. It doesn\\'t matter if you don\\'t come from a technical or a mathematical background (though it\\'s okay if you do too!); we wrote this book to make deep learning accessible to as many people as possible.\\n## Deep Learning Is for Everyone\\nA lot of people assume that you need all kinds of hard-to-find stuff to get great results with deep learning, but as you\\'ll see in this book, those people are wrong. <<myths>> is a list of a few thing you *absolutely don\\'t need* to do world-class deep learning.\\n\\n```asciidoc\\n[[myths]]\\n.What you don\\'t need to do deep learning\\n[options=\"header\"]\\n|======\\n| Myth (don\\'t need) | Truth\\n| Lots of math | Just high school math is sufficient\\n| Lots of data | We\\'ve seen record-breaking results with <50 items of data\\n| Lots of expensive computers | You can get what you need for state of the art work for free\\n|======\\n```\\n\\nDeep learning is a computer technique to extract and transform data–-with use cases ranging from human speech recognition to animal imagery classification–-by using multiple layers of neural networks. Each of these layers takes its inputs from previous layers and progressively refines them. The layers are trained by algorithms that minimize their errors and improve their accuracy. In this way, the network learns to perform a specified task. We will discuss training algorithms in detail in the next section.\\nDeep learning has power, flexibility, and simplicity. That\\'s why we believe it should be applied across many disciplines. These include the social and physical sciences, the arts, medicine, finance, scientific research, and many more. To give a personal example, despite having no background in medicine, Jeremy started Enlitic, a company that uses deep learning algorithms to diagnose illness and disease.')"
            ]
          },
          "metadata": {},
          "execution_count": 28
        }
      ]
    },
    {
      "cell_type": "code",
      "source": [
        "documents[0]"
      ],
      "metadata": {
        "colab": {
          "base_uri": "https://localhost:8080/",
          "height": 209
        },
        "id": "fLHGkpJ4E4W4",
        "outputId": "3c27721c-89bc-4460-aa68-039506750928"
      },
      "execution_count": 29,
      "outputs": [
        {
          "output_type": "execute_result",
          "data": {
            "text/plain": [
              "'#hide\\n! [ -e /content ] && pip install -Uqq fastbook\\nimport fastbook\\nfastbook.setup_book()\\n#hide\\nfrom fastbook import *\\n# Your Deep Learning Journey\\nHello, and thank you for letting us join you on your deep learning journey, however far along that you may be! In this chapter, we will tell you a little bit more about what to expect in this book, introduce the key concepts behind deep learning, and train our first models on different tasks. It doesn\\'t matter if you don\\'t come from a technical or a mathematical background (though it\\'s okay if you do too!); we wrote this book to make deep learning accessible to as many people as possible.\\n## Deep Learning Is for Everyone\\nA lot of people assume that you need all kinds of hard-to-find stuff to get great results with deep learning, but as you\\'ll see in this book, those people are wrong. <<myths>> is a list of a few thing you *absolutely don\\'t need* to do world-class deep learning.\\n\\n```asciidoc\\n[[myths]]\\n.What you don\\'t need to do deep learning\\n[options=\"header\"]\\n|======\\n| Myth (don\\'t need) | Truth\\n| Lots of math | Just high school math is sufficient\\n| Lots of data | We\\'ve seen record-breaking results with <50 items of data\\n| Lots of expensive computers | You can get what you need for state of the art work for free\\n|======\\n```\\n\\nDeep learning is a computer technique to extract and transform data–-with use cases ranging from human speech recognition to animal imagery classification–-by using multiple layers of neural networks. Each of these layers takes its inputs from previous layers and progressively refines them. The layers are trained by algorithms that minimize their errors and improve their accuracy. In this way, the network learns to perform a specified task. We will discuss training algorithms in detail in the next section.\\nDeep learning has power, flexibility, and simplicity. That\\'s why we believe it should be applied across many disciplines. These include the social and physical sciences, the arts, medicine, finance, scientific research, and many more. To give a personal example, despite having no background in medicine, Jeremy started Enlitic, a company that uses deep learning algorithms to diagnose illness and disease.'"
            ],
            "application/vnd.google.colaboratory.intrinsic+json": {
              "type": "string"
            }
          },
          "metadata": {},
          "execution_count": 29
        }
      ]
    },
    {
      "cell_type": "code",
      "source": [
        "def delete_db():\n",
        "    if os.path.exists(\"fastbook.db\"): os.remove(\"fastbook.db\")"
      ],
      "metadata": {
        "id": "DGU40DaUE9N5"
      },
      "execution_count": 30,
      "outputs": []
    },
    {
      "cell_type": "code",
      "source": [
        "def load_data(documents, db_path, chapter):\n",
        "    # create virtual table\n",
        "    if not os.path.exists(db_path):\n",
        "        with sqlite3.connect(db_path) as conn:\n",
        "            cur = conn.cursor()\n",
        "            cur.execute(\"\"\"\n",
        "                    CREATE VIRTUAL TABLE fastbook_text\n",
        "                    USING FTS5(chapter, text);\n",
        "                    \"\"\")\n",
        "            conn.commit()\n",
        "\n",
        "    # load in the chunks for each chapter\n",
        "    with sqlite3.connect(db_path) as conn:\n",
        "        cur = conn.cursor()\n",
        "        for doc in documents: cur.execute(\"INSERT INTO fastbook_text(chapter, text) VALUES (?, ?)\", (chapter, doc))\n",
        "        conn.commit()\n",
        "        res = cur.execute(\"SELECT * FROM fastbook_text WHERE chapter = ?\", (chapter,)).fetchall()\n",
        "        assert len(res) == len(documents)\n",
        "\n",
        "    return True"
      ],
      "metadata": {
        "id": "y4FFDELKFCth"
      },
      "execution_count": 31,
      "outputs": []
    },
    {
      "cell_type": "code",
      "source": [
        "delete_db()\n",
        "for chapter, text in data.items():\n",
        "    documents = process_documents(text, chunk_size=chunk_size)\n",
        "    assert load_data(documents, db_path, chapter)"
      ],
      "metadata": {
        "id": "esKoDSnNFOMt"
      },
      "execution_count": 32,
      "outputs": []
    },
    {
      "cell_type": "markdown",
      "source": [
        "## Full Text Search"
      ],
      "metadata": {
        "id": "jr9nY3pigc58"
      }
    },
    {
      "cell_type": "markdown",
      "source": [
        "### Load Keywords"
      ],
      "metadata": {
        "id": "iNcoPIUBgh6W"
      }
    },
    {
      "cell_type": "code",
      "source": [
        "url = 'https://raw.githubusercontent.com/vishalbakshi/fastbook-benchmark/refs/heads/main/examples/fts_keywords.csv'\n",
        "kw_df = pd.read_csv(url)\n",
        "assert kw_df.shape == (191, 4)\n",
        "kw_df.head()"
      ],
      "metadata": {
        "colab": {
          "base_uri": "https://localhost:8080/",
          "height": 206
        },
        "id": "cGAlfHH7AX_J",
        "outputId": "97205be6-bc07-430a-e097-9044e294bbd2"
      },
      "execution_count": 33,
      "outputs": [
        {
          "output_type": "execute_result",
          "data": {
            "text/plain": [
              "   chapter  question_number  \\\n",
              "0        1                1   \n",
              "1        1                2   \n",
              "2        1                3   \n",
              "3        1                4   \n",
              "4        1                5   \n",
              "\n",
              "                                       question_text  \\\n",
              "0  \"Do you need these for deep learning?\\n\\n- Lot...   \n",
              "1  \"Name five areas where deep learning is now th...   \n",
              "2  \"What was the name of the first device that wa...   \n",
              "3  \"Based on the book of the same name, what are ...   \n",
              "4  \"What were the two theoretical misunderstandin...   \n",
              "\n",
              "                                            keywords  \n",
              "0        \"deep learning, math, data, computers, PhD\"  \n",
              "1                  deep learning, areas, best, world  \n",
              "2   \"neuron, neurons, device, artificial, principle\"  \n",
              "3  \"parallel, distributed, processing, PDP, requi...  \n",
              "4  \"neural, networks, theoretical, misunderstandi...  "
            ],
            "text/html": [
              "\n",
              "  <div id=\"df-50f99166-c4f3-4373-8f46-ba4a88252013\" class=\"colab-df-container\">\n",
              "    <div>\n",
              "<style scoped>\n",
              "    .dataframe tbody tr th:only-of-type {\n",
              "        vertical-align: middle;\n",
              "    }\n",
              "\n",
              "    .dataframe tbody tr th {\n",
              "        vertical-align: top;\n",
              "    }\n",
              "\n",
              "    .dataframe thead th {\n",
              "        text-align: right;\n",
              "    }\n",
              "</style>\n",
              "<table border=\"1\" class=\"dataframe\">\n",
              "  <thead>\n",
              "    <tr style=\"text-align: right;\">\n",
              "      <th></th>\n",
              "      <th>chapter</th>\n",
              "      <th>question_number</th>\n",
              "      <th>question_text</th>\n",
              "      <th>keywords</th>\n",
              "    </tr>\n",
              "  </thead>\n",
              "  <tbody>\n",
              "    <tr>\n",
              "      <th>0</th>\n",
              "      <td>1</td>\n",
              "      <td>1</td>\n",
              "      <td>\"Do you need these for deep learning?\\n\\n- Lot...</td>\n",
              "      <td>\"deep learning, math, data, computers, PhD\"</td>\n",
              "    </tr>\n",
              "    <tr>\n",
              "      <th>1</th>\n",
              "      <td>1</td>\n",
              "      <td>2</td>\n",
              "      <td>\"Name five areas where deep learning is now th...</td>\n",
              "      <td>deep learning, areas, best, world</td>\n",
              "    </tr>\n",
              "    <tr>\n",
              "      <th>2</th>\n",
              "      <td>1</td>\n",
              "      <td>3</td>\n",
              "      <td>\"What was the name of the first device that wa...</td>\n",
              "      <td>\"neuron, neurons, device, artificial, principle\"</td>\n",
              "    </tr>\n",
              "    <tr>\n",
              "      <th>3</th>\n",
              "      <td>1</td>\n",
              "      <td>4</td>\n",
              "      <td>\"Based on the book of the same name, what are ...</td>\n",
              "      <td>\"parallel, distributed, processing, PDP, requi...</td>\n",
              "    </tr>\n",
              "    <tr>\n",
              "      <th>4</th>\n",
              "      <td>1</td>\n",
              "      <td>5</td>\n",
              "      <td>\"What were the two theoretical misunderstandin...</td>\n",
              "      <td>\"neural, networks, theoretical, misunderstandi...</td>\n",
              "    </tr>\n",
              "  </tbody>\n",
              "</table>\n",
              "</div>\n",
              "    <div class=\"colab-df-buttons\">\n",
              "\n",
              "  <div class=\"colab-df-container\">\n",
              "    <button class=\"colab-df-convert\" onclick=\"convertToInteractive('df-50f99166-c4f3-4373-8f46-ba4a88252013')\"\n",
              "            title=\"Convert this dataframe to an interactive table.\"\n",
              "            style=\"display:none;\">\n",
              "\n",
              "  <svg xmlns=\"http://www.w3.org/2000/svg\" height=\"24px\" viewBox=\"0 -960 960 960\">\n",
              "    <path d=\"M120-120v-720h720v720H120Zm60-500h600v-160H180v160Zm220 220h160v-160H400v160Zm0 220h160v-160H400v160ZM180-400h160v-160H180v160Zm440 0h160v-160H620v160ZM180-180h160v-160H180v160Zm440 0h160v-160H620v160Z\"/>\n",
              "  </svg>\n",
              "    </button>\n",
              "\n",
              "  <style>\n",
              "    .colab-df-container {\n",
              "      display:flex;\n",
              "      gap: 12px;\n",
              "    }\n",
              "\n",
              "    .colab-df-convert {\n",
              "      background-color: #E8F0FE;\n",
              "      border: none;\n",
              "      border-radius: 50%;\n",
              "      cursor: pointer;\n",
              "      display: none;\n",
              "      fill: #1967D2;\n",
              "      height: 32px;\n",
              "      padding: 0 0 0 0;\n",
              "      width: 32px;\n",
              "    }\n",
              "\n",
              "    .colab-df-convert:hover {\n",
              "      background-color: #E2EBFA;\n",
              "      box-shadow: 0px 1px 2px rgba(60, 64, 67, 0.3), 0px 1px 3px 1px rgba(60, 64, 67, 0.15);\n",
              "      fill: #174EA6;\n",
              "    }\n",
              "\n",
              "    .colab-df-buttons div {\n",
              "      margin-bottom: 4px;\n",
              "    }\n",
              "\n",
              "    [theme=dark] .colab-df-convert {\n",
              "      background-color: #3B4455;\n",
              "      fill: #D2E3FC;\n",
              "    }\n",
              "\n",
              "    [theme=dark] .colab-df-convert:hover {\n",
              "      background-color: #434B5C;\n",
              "      box-shadow: 0px 1px 3px 1px rgba(0, 0, 0, 0.15);\n",
              "      filter: drop-shadow(0px 1px 2px rgba(0, 0, 0, 0.3));\n",
              "      fill: #FFFFFF;\n",
              "    }\n",
              "  </style>\n",
              "\n",
              "    <script>\n",
              "      const buttonEl =\n",
              "        document.querySelector('#df-50f99166-c4f3-4373-8f46-ba4a88252013 button.colab-df-convert');\n",
              "      buttonEl.style.display =\n",
              "        google.colab.kernel.accessAllowed ? 'block' : 'none';\n",
              "\n",
              "      async function convertToInteractive(key) {\n",
              "        const element = document.querySelector('#df-50f99166-c4f3-4373-8f46-ba4a88252013');\n",
              "        const dataTable =\n",
              "          await google.colab.kernel.invokeFunction('convertToInteractive',\n",
              "                                                    [key], {});\n",
              "        if (!dataTable) return;\n",
              "\n",
              "        const docLinkHtml = 'Like what you see? Visit the ' +\n",
              "          '<a target=\"_blank\" href=https://colab.research.google.com/notebooks/data_table.ipynb>data table notebook</a>'\n",
              "          + ' to learn more about interactive tables.';\n",
              "        element.innerHTML = '';\n",
              "        dataTable['output_type'] = 'display_data';\n",
              "        await google.colab.output.renderOutput(dataTable, element);\n",
              "        const docLink = document.createElement('div');\n",
              "        docLink.innerHTML = docLinkHtml;\n",
              "        element.appendChild(docLink);\n",
              "      }\n",
              "    </script>\n",
              "  </div>\n",
              "\n",
              "\n",
              "<div id=\"df-02a853f8-811d-4cba-8e01-60d8a662d042\">\n",
              "  <button class=\"colab-df-quickchart\" onclick=\"quickchart('df-02a853f8-811d-4cba-8e01-60d8a662d042')\"\n",
              "            title=\"Suggest charts\"\n",
              "            style=\"display:none;\">\n",
              "\n",
              "<svg xmlns=\"http://www.w3.org/2000/svg\" height=\"24px\"viewBox=\"0 0 24 24\"\n",
              "     width=\"24px\">\n",
              "    <g>\n",
              "        <path d=\"M19 3H5c-1.1 0-2 .9-2 2v14c0 1.1.9 2 2 2h14c1.1 0 2-.9 2-2V5c0-1.1-.9-2-2-2zM9 17H7v-7h2v7zm4 0h-2V7h2v10zm4 0h-2v-4h2v4z\"/>\n",
              "    </g>\n",
              "</svg>\n",
              "  </button>\n",
              "\n",
              "<style>\n",
              "  .colab-df-quickchart {\n",
              "      --bg-color: #E8F0FE;\n",
              "      --fill-color: #1967D2;\n",
              "      --hover-bg-color: #E2EBFA;\n",
              "      --hover-fill-color: #174EA6;\n",
              "      --disabled-fill-color: #AAA;\n",
              "      --disabled-bg-color: #DDD;\n",
              "  }\n",
              "\n",
              "  [theme=dark] .colab-df-quickchart {\n",
              "      --bg-color: #3B4455;\n",
              "      --fill-color: #D2E3FC;\n",
              "      --hover-bg-color: #434B5C;\n",
              "      --hover-fill-color: #FFFFFF;\n",
              "      --disabled-bg-color: #3B4455;\n",
              "      --disabled-fill-color: #666;\n",
              "  }\n",
              "\n",
              "  .colab-df-quickchart {\n",
              "    background-color: var(--bg-color);\n",
              "    border: none;\n",
              "    border-radius: 50%;\n",
              "    cursor: pointer;\n",
              "    display: none;\n",
              "    fill: var(--fill-color);\n",
              "    height: 32px;\n",
              "    padding: 0;\n",
              "    width: 32px;\n",
              "  }\n",
              "\n",
              "  .colab-df-quickchart:hover {\n",
              "    background-color: var(--hover-bg-color);\n",
              "    box-shadow: 0 1px 2px rgba(60, 64, 67, 0.3), 0 1px 3px 1px rgba(60, 64, 67, 0.15);\n",
              "    fill: var(--button-hover-fill-color);\n",
              "  }\n",
              "\n",
              "  .colab-df-quickchart-complete:disabled,\n",
              "  .colab-df-quickchart-complete:disabled:hover {\n",
              "    background-color: var(--disabled-bg-color);\n",
              "    fill: var(--disabled-fill-color);\n",
              "    box-shadow: none;\n",
              "  }\n",
              "\n",
              "  .colab-df-spinner {\n",
              "    border: 2px solid var(--fill-color);\n",
              "    border-color: transparent;\n",
              "    border-bottom-color: var(--fill-color);\n",
              "    animation:\n",
              "      spin 1s steps(1) infinite;\n",
              "  }\n",
              "\n",
              "  @keyframes spin {\n",
              "    0% {\n",
              "      border-color: transparent;\n",
              "      border-bottom-color: var(--fill-color);\n",
              "      border-left-color: var(--fill-color);\n",
              "    }\n",
              "    20% {\n",
              "      border-color: transparent;\n",
              "      border-left-color: var(--fill-color);\n",
              "      border-top-color: var(--fill-color);\n",
              "    }\n",
              "    30% {\n",
              "      border-color: transparent;\n",
              "      border-left-color: var(--fill-color);\n",
              "      border-top-color: var(--fill-color);\n",
              "      border-right-color: var(--fill-color);\n",
              "    }\n",
              "    40% {\n",
              "      border-color: transparent;\n",
              "      border-right-color: var(--fill-color);\n",
              "      border-top-color: var(--fill-color);\n",
              "    }\n",
              "    60% {\n",
              "      border-color: transparent;\n",
              "      border-right-color: var(--fill-color);\n",
              "    }\n",
              "    80% {\n",
              "      border-color: transparent;\n",
              "      border-right-color: var(--fill-color);\n",
              "      border-bottom-color: var(--fill-color);\n",
              "    }\n",
              "    90% {\n",
              "      border-color: transparent;\n",
              "      border-bottom-color: var(--fill-color);\n",
              "    }\n",
              "  }\n",
              "</style>\n",
              "\n",
              "  <script>\n",
              "    async function quickchart(key) {\n",
              "      const quickchartButtonEl =\n",
              "        document.querySelector('#' + key + ' button');\n",
              "      quickchartButtonEl.disabled = true;  // To prevent multiple clicks.\n",
              "      quickchartButtonEl.classList.add('colab-df-spinner');\n",
              "      try {\n",
              "        const charts = await google.colab.kernel.invokeFunction(\n",
              "            'suggestCharts', [key], {});\n",
              "      } catch (error) {\n",
              "        console.error('Error during call to suggestCharts:', error);\n",
              "      }\n",
              "      quickchartButtonEl.classList.remove('colab-df-spinner');\n",
              "      quickchartButtonEl.classList.add('colab-df-quickchart-complete');\n",
              "    }\n",
              "    (() => {\n",
              "      let quickchartButtonEl =\n",
              "        document.querySelector('#df-02a853f8-811d-4cba-8e01-60d8a662d042 button');\n",
              "      quickchartButtonEl.style.display =\n",
              "        google.colab.kernel.accessAllowed ? 'block' : 'none';\n",
              "    })();\n",
              "  </script>\n",
              "</div>\n",
              "\n",
              "    </div>\n",
              "  </div>\n"
            ],
            "application/vnd.google.colaboratory.intrinsic+json": {
              "type": "dataframe",
              "variable_name": "kw_df",
              "summary": "{\n  \"name\": \"kw_df\",\n  \"rows\": 191,\n  \"fields\": [\n    {\n      \"column\": \"chapter\",\n      \"properties\": {\n        \"dtype\": \"number\",\n        \"std\": 4,\n        \"min\": 1,\n        \"max\": 13,\n        \"num_unique_values\": 7,\n        \"samples\": [\n          1,\n          2,\n          10\n        ],\n        \"semantic_type\": \"\",\n        \"description\": \"\"\n      }\n    },\n    {\n      \"column\": \"question_number\",\n      \"properties\": {\n        \"dtype\": \"number\",\n        \"std\": 9,\n        \"min\": 1,\n        \"max\": 40,\n        \"num_unique_values\": 40,\n        \"samples\": [\n          23,\n          20,\n          19\n        ],\n        \"semantic_type\": \"\",\n        \"description\": \"\"\n      }\n    },\n    {\n      \"column\": \"question_text\",\n      \"properties\": {\n        \"dtype\": \"string\",\n        \"num_unique_values\": 191,\n        \"samples\": [\n          \"\\\"Why do we need padding for text classification? Why don't we need it for language modeling?\\\"\",\n          \"\\\"What is the function to calculate new weights using a learning rate?\\\"\",\n          \"\\\"What is the value of a convolutional kernel apply to a 3\\u00d73 matrix of zeros?\\\"\"\n        ],\n        \"semantic_type\": \"\",\n        \"description\": \"\"\n      }\n    },\n    {\n      \"column\": \"keywords\",\n      \"properties\": {\n        \"dtype\": \"string\",\n        \"num_unique_values\": 191,\n        \"samples\": [\n          \"\\\"padding, text, classification, language, modeling, need\\\"\",\n          \"\\\"function, calculate, weight, weights, learning, rate\\\"\",\n          \"\\\"convolutional, kernel, matrix, zeros, value\\\"\"\n        ],\n        \"semantic_type\": \"\",\n        \"description\": \"\"\n      }\n    }\n  ]\n}"
            }
          },
          "metadata": {},
          "execution_count": 33
        }
      ]
    },
    {
      "cell_type": "markdown",
      "source": [
        "### Prepare Match String"
      ],
      "metadata": {
        "id": "ZpPAtv-Ug2zS"
      }
    },
    {
      "cell_type": "markdown",
      "source": [
        "Goal:\n",
        "\n",
        "> \"deep\" OR \"learning\" OR \"math\" OR \"data\" OR \"computers\" OR \"PhD\""
      ],
      "metadata": {
        "id": "70a9EI84hEAq"
      }
    },
    {
      "cell_type": "code",
      "source": [
        "row = kw_df.iloc[0]\n",
        "row"
      ],
      "metadata": {
        "colab": {
          "base_uri": "https://localhost:8080/",
          "height": 210
        },
        "id": "x7kknqBNAYka",
        "outputId": "8528a372-c28d-4b23-b9c6-81ff8dc8384c"
      },
      "execution_count": 34,
      "outputs": [
        {
          "output_type": "execute_result",
          "data": {
            "text/plain": [
              "chapter                                                            1\n",
              "question_number                                                    1\n",
              "question_text      \"Do you need these for deep learning?\\n\\n- Lot...\n",
              "keywords                 \"deep learning, math, data, computers, PhD\"\n",
              "Name: 0, dtype: object"
            ],
            "text/html": [
              "<div>\n",
              "<style scoped>\n",
              "    .dataframe tbody tr th:only-of-type {\n",
              "        vertical-align: middle;\n",
              "    }\n",
              "\n",
              "    .dataframe tbody tr th {\n",
              "        vertical-align: top;\n",
              "    }\n",
              "\n",
              "    .dataframe thead th {\n",
              "        text-align: right;\n",
              "    }\n",
              "</style>\n",
              "<table border=\"1\" class=\"dataframe\">\n",
              "  <thead>\n",
              "    <tr style=\"text-align: right;\">\n",
              "      <th></th>\n",
              "      <th>0</th>\n",
              "    </tr>\n",
              "  </thead>\n",
              "  <tbody>\n",
              "    <tr>\n",
              "      <th>chapter</th>\n",
              "      <td>1</td>\n",
              "    </tr>\n",
              "    <tr>\n",
              "      <th>question_number</th>\n",
              "      <td>1</td>\n",
              "    </tr>\n",
              "    <tr>\n",
              "      <th>question_text</th>\n",
              "      <td>\"Do you need these for deep learning?\\n\\n- Lot...</td>\n",
              "    </tr>\n",
              "    <tr>\n",
              "      <th>keywords</th>\n",
              "      <td>\"deep learning, math, data, computers, PhD\"</td>\n",
              "    </tr>\n",
              "  </tbody>\n",
              "</table>\n",
              "</div><br><label><b>dtype:</b> object</label>"
            ]
          },
          "metadata": {},
          "execution_count": 34
        }
      ]
    },
    {
      "cell_type": "code",
      "source": [
        "chapter = row['chapter']\n",
        "chapter"
      ],
      "metadata": {
        "colab": {
          "base_uri": "https://localhost:8080/"
        },
        "id": "GPGyCzgkF1W4",
        "outputId": "34c8ac9d-eb4d-46ac-fd41-2aad17517366"
      },
      "execution_count": 35,
      "outputs": [
        {
          "output_type": "execute_result",
          "data": {
            "text/plain": [
              "1"
            ]
          },
          "metadata": {},
          "execution_count": 35
        }
      ]
    },
    {
      "cell_type": "code",
      "source": [
        "question_text = row['question_text']\n",
        "question_text"
      ],
      "metadata": {
        "colab": {
          "base_uri": "https://localhost:8080/",
          "height": 35
        },
        "id": "iN6I5FJ1F2HX",
        "outputId": "61494a0a-0dee-4018-c8d3-d57762c84c88"
      },
      "execution_count": 36,
      "outputs": [
        {
          "output_type": "execute_result",
          "data": {
            "text/plain": [
              "'\"Do you need these for deep learning?\\\\n\\\\n- Lots of math T / F\\\\n   - Lots of data T / F\\\\n   - Lots of expensive computers T / F\\\\n   - A PhD T / F\"'"
            ],
            "application/vnd.google.colaboratory.intrinsic+json": {
              "type": "string"
            }
          },
          "metadata": {},
          "execution_count": 36
        }
      ]
    },
    {
      "cell_type": "code",
      "source": [
        "keywords = row['keywords']\n",
        "keywords"
      ],
      "metadata": {
        "colab": {
          "base_uri": "https://localhost:8080/",
          "height": 35
        },
        "id": "mhVHYxZeF2J6",
        "outputId": "67ea8be9-caf9-407d-bc6f-3cc3f988520d"
      },
      "execution_count": 37,
      "outputs": [
        {
          "output_type": "execute_result",
          "data": {
            "text/plain": [
              "'\"deep learning, math, data, computers, PhD\"'"
            ],
            "application/vnd.google.colaboratory.intrinsic+json": {
              "type": "string"
            }
          },
          "metadata": {},
          "execution_count": 37
        }
      ]
    },
    {
      "cell_type": "code",
      "source": [
        "keywords = keywords.replace('\"', '').split()\n",
        "keywords"
      ],
      "metadata": {
        "colab": {
          "base_uri": "https://localhost:8080/"
        },
        "id": "rzmuEvzDF2PM",
        "outputId": "a36ba19c-3e23-484f-d93c-39249aaf338d"
      },
      "execution_count": 38,
      "outputs": [
        {
          "output_type": "execute_result",
          "data": {
            "text/plain": [
              "['deep', 'learning,', 'math,', 'data,', 'computers,', 'PhD']"
            ]
          },
          "metadata": {},
          "execution_count": 38
        }
      ]
    },
    {
      "cell_type": "code",
      "source": [
        "matchstr = ' OR '.join([f'\"{kw.strip(\",\")}\"' for kw in keywords])\n",
        "matchstr"
      ],
      "metadata": {
        "colab": {
          "base_uri": "https://localhost:8080/",
          "height": 35
        },
        "id": "DJKUKiF-GI5H",
        "outputId": "48d50fbd-d129-449d-bcb3-a75d06b1abe2"
      },
      "execution_count": 39,
      "outputs": [
        {
          "output_type": "execute_result",
          "data": {
            "text/plain": [
              "'\"deep\" OR \"learning\" OR \"math\" OR \"data\" OR \"computers\" OR \"PhD\"'"
            ],
            "application/vnd.google.colaboratory.intrinsic+json": {
              "type": "string"
            }
          },
          "metadata": {},
          "execution_count": 39
        }
      ]
    },
    {
      "cell_type": "markdown",
      "source": [
        "### Run Search"
      ],
      "metadata": {
        "id": "--SqCa8hi_8o"
      }
    },
    {
      "cell_type": "code",
      "source": [
        "q = f\"\"\"\n",
        "        SELECT text, rank\n",
        "        FROM fastbook_text\n",
        "        WHERE fastbook_text MATCH ?\n",
        "        AND chapter = ?\n",
        "        ORDER BY rank\n",
        "        LIMIT ?\n",
        "        \"\"\""
      ],
      "metadata": {
        "id": "yW0mKbGeAarj"
      },
      "execution_count": 40,
      "outputs": []
    },
    {
      "cell_type": "code",
      "source": [
        "limit = 10\n",
        "limit"
      ],
      "metadata": {
        "colab": {
          "base_uri": "https://localhost:8080/"
        },
        "id": "O1Lg2a2mGd7Q",
        "outputId": "a77e09c4-bec1-46dd-fe7f-17ff699e6d0b"
      },
      "execution_count": 41,
      "outputs": [
        {
          "output_type": "execute_result",
          "data": {
            "text/plain": [
              "10"
            ]
          },
          "metadata": {},
          "execution_count": 41
        }
      ]
    },
    {
      "cell_type": "code",
      "source": [
        "with sqlite3.connect(db_path) as conn:\n",
        "    cur = conn.cursor()\n",
        "    res = cur.execute(q, (matchstr, str(chapter), limit)).fetchall()\n",
        "    res = [item[0] for item in res]"
      ],
      "metadata": {
        "id": "FvPcKcU2Gd_W"
      },
      "execution_count": 42,
      "outputs": []
    },
    {
      "cell_type": "code",
      "source": [
        "print(res[1])"
      ],
      "metadata": {
        "colab": {
          "base_uri": "https://localhost:8080/"
        },
        "id": "7n1kVb5PGoBQ",
        "outputId": "ad3f2ea4-57e6-4d59-ce32-b3afb5ea9f17"
      },
      "execution_count": 43,
      "outputs": [
        {
          "output_type": "stream",
          "name": "stdout",
          "text": [
            "#hide\n",
            "! [ -e /content ] && pip install -Uqq fastbook\n",
            "import fastbook\n",
            "fastbook.setup_book()\n",
            "#hide\n",
            "from fastbook import *\n",
            "# Your Deep Learning Journey\n",
            "Hello, and thank you for letting us join you on your deep learning journey, however far along that you may be! In this chapter, we will tell you a little bit more about what to expect in this book, introduce the key concepts behind deep learning, and train our first models on different tasks. It doesn't matter if you don't come from a technical or a mathematical background (though it's okay if you do too!); we wrote this book to make deep learning accessible to as many people as possible.\n",
            "## Deep Learning Is for Everyone\n",
            "A lot of people assume that you need all kinds of hard-to-find stuff to get great results with deep learning, but as you'll see in this book, those people are wrong. <<myths>> is a list of a few thing you *absolutely don't need* to do world-class deep learning.\n",
            "\n",
            "```asciidoc\n",
            "[[myths]]\n",
            ".What you don't need to do deep learning\n",
            "[options=\"header\"]\n",
            "|======\n",
            "| Myth (don't need) | Truth\n",
            "| Lots of math | Just high school math is sufficient\n",
            "| Lots of data | We've seen record-breaking results with <50 items of data\n",
            "| Lots of expensive computers | You can get what you need for state of the art work for free\n",
            "|======\n",
            "```\n",
            "\n",
            "Deep learning is a computer technique to extract and transform data–-with use cases ranging from human speech recognition to animal imagery classification–-by using multiple layers of neural networks. Each of these layers takes its inputs from previous layers and progressively refines them. The layers are trained by algorithms that minimize their errors and improve their accuracy. In this way, the network learns to perform a specified task. We will discuss training algorithms in detail in the next section.\n",
            "Deep learning has power, flexibility, and simplicity. That's why we believe it should be applied across many disciplines. These include the social and physical sciences, the arts, medicine, finance, scientific research, and many more. To give a personal example, despite having no background in medicine, Jeremy started Enlitic, a company that uses deep learning algorithms to diagnose illness and disease.\n"
          ]
        }
      ]
    },
    {
      "cell_type": "code",
      "source": [
        "def full_text_search(kw_df, limit=10):\n",
        "    all_results = []\n",
        "    with sqlite3.connect('fastbook.db') as conn:\n",
        "        cur = conn.cursor()\n",
        "\n",
        "        for _, row in kw_df.iterrows():\n",
        "            chapter = row['chapter']\n",
        "            keywords = row['keywords'].replace('\"', '').split()\n",
        "            matchstr = ' OR '.join([f'\"{kw.strip(\",\")}\"' for kw in keywords])\n",
        "\n",
        "            q = f\"\"\"\n",
        "                    SELECT text, rank\n",
        "                    FROM fastbook_text\n",
        "                    WHERE fastbook_text MATCH ?\n",
        "                    AND chapter = ?\n",
        "                    ORDER BY rank\n",
        "                    LIMIT ?\n",
        "            \"\"\"\n",
        "            res = cur.execute(q, (matchstr, str(chapter), limit)).fetchall()\n",
        "            res = [item[0] for item in res]\n",
        "            assert len(res) <= limit\n",
        "            all_results.append(res)\n",
        "\n",
        "    assert len(all_results) == len(kw_df)\n",
        "    return all_results"
      ],
      "metadata": {
        "id": "mK4z8ETSGpeL"
      },
      "execution_count": 44,
      "outputs": []
    },
    {
      "cell_type": "code",
      "source": [
        "chunk_size"
      ],
      "metadata": {
        "colab": {
          "base_uri": "https://localhost:8080/"
        },
        "id": "I2PlOherHAlT",
        "outputId": "6e9f4168-c156-4155-a4cd-0c306a816220"
      },
      "execution_count": 45,
      "outputs": [
        {
          "output_type": "execute_result",
          "data": {
            "text/plain": [
              "500"
            ]
          },
          "metadata": {},
          "execution_count": 45
        }
      ]
    },
    {
      "cell_type": "code",
      "source": [
        "delete_db()\n",
        "for chapter, text in data.items():\n",
        "    documents = process_documents(text, chunk_size=chunk_size)\n",
        "    assert load_data(documents, db_path, chapter)"
      ],
      "metadata": {
        "id": "Ceu7pfgDHUJZ"
      },
      "execution_count": 46,
      "outputs": []
    },
    {
      "cell_type": "code",
      "source": [
        "results = full_text_search(kw_df, limit=10)\n",
        "assert len(results) == 191"
      ],
      "metadata": {
        "id": "sF06wRUNHY9h"
      },
      "execution_count": 47,
      "outputs": []
    },
    {
      "cell_type": "code",
      "source": [
        "print(results[0][1])"
      ],
      "metadata": {
        "colab": {
          "base_uri": "https://localhost:8080/"
        },
        "id": "VNweQQVrHduh",
        "outputId": "7a7b4e43-af6a-4c27-d922-180d2e68323f"
      },
      "execution_count": 48,
      "outputs": [
        {
          "output_type": "stream",
          "name": "stdout",
          "text": [
            "#hide\n",
            "! [ -e /content ] && pip install -Uqq fastbook\n",
            "import fastbook\n",
            "fastbook.setup_book()\n",
            "#hide\n",
            "from fastbook import *\n",
            "# Your Deep Learning Journey\n",
            "Hello, and thank you for letting us join you on your deep learning journey, however far along that you may be! In this chapter, we will tell you a little bit more about what to expect in this book, introduce the key concepts behind deep learning, and train our first models on different tasks. It doesn't matter if you don't come from a technical or a mathematical background (though it's okay if you do too!); we wrote this book to make deep learning accessible to as many people as possible.\n",
            "## Deep Learning Is for Everyone\n",
            "A lot of people assume that you need all kinds of hard-to-find stuff to get great results with deep learning, but as you'll see in this book, those people are wrong. <<myths>> is a list of a few thing you *absolutely don't need* to do world-class deep learning.\n",
            "\n",
            "```asciidoc\n",
            "[[myths]]\n",
            ".What you don't need to do deep learning\n",
            "[options=\"header\"]\n",
            "|======\n",
            "| Myth (don't need) | Truth\n",
            "| Lots of math | Just high school math is sufficient\n",
            "| Lots of data | We've seen record-breaking results with <50 items of data\n",
            "| Lots of expensive computers | You can get what you need for state of the art work for free\n",
            "|======\n",
            "```\n",
            "\n",
            "Deep learning is a computer technique to extract and transform data–-with use cases ranging from human speech recognition to animal imagery classification–-by using multiple layers of neural networks. Each of these layers takes its inputs from previous layers and progressively refines them. The layers are trained by algorithms that minimize their errors and improve their accuracy. In this way, the network learns to perform a specified task. We will discuss training algorithms in detail in the next section.\n",
            "Deep learning has power, flexibility, and simplicity. That's why we believe it should be applied across many disciplines. These include the social and physical sciences, the arts, medicine, finance, scientific research, and many more. To give a personal example, despite having no background in medicine, Jeremy started Enlitic, a company that uses deep learning algorithms to diagnose illness and disease.\n"
          ]
        }
      ]
    },
    {
      "cell_type": "code",
      "source": [],
      "metadata": {
        "id": "fD_aVyE_HiTm"
      },
      "execution_count": null,
      "outputs": []
    }
  ]
}