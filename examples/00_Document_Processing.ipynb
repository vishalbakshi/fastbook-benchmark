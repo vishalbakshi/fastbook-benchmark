{
  "nbformat": 4,
  "nbformat_minor": 0,
  "metadata": {
    "colab": {
      "provenance": [],
      "toc_visible": true,
      "gpuType": "T4"
    },
    "kernelspec": {
      "name": "python3",
      "display_name": "Python 3"
    },
    "language_info": {
      "name": "python"
    },
    "accelerator": "GPU"
  },
  "cells": [
    {
      "cell_type": "markdown",
      "source": [
        "## Setup"
      ],
      "metadata": {
        "id": "EEGfCjzeTX2-"
      }
    },
    {
      "cell_type": "code",
      "execution_count": null,
      "metadata": {
        "id": "NHD8ry6HSpCn"
      },
      "outputs": [],
      "source": [
        "!pip install ftfy -qq\n",
        "!pip install llama-index -qq\n",
        "!pip install -qq RAGatouille\n",
        "\n",
        "import sqlite3\n",
        "import json\n",
        "import re\n",
        "import os\n",
        "import pandas as pd, numpy as np\n",
        "import matplotlib.pyplot as plt\n",
        "import requests\n",
        "import torch\n",
        "import torch.nn.functional as F\n",
        "from ftfy import fix_text\n",
        "from ragatouille.data import CorpusProcessor\n",
        "from llama_index.core.text_splitter import SentenceSplitter\n",
        "\n",
        "corpus_processor = CorpusProcessor()"
      ]
    },
    {
      "cell_type": "markdown",
      "source": [
        "### Download Data"
      ],
      "metadata": {
        "id": "gc92N0GOVIYS"
      }
    },
    {
      "cell_type": "code",
      "source": [
        "def download_file(url, fn):\n",
        "    with open(fn, 'wb') as file: file.write(requests.get(url).content)\n",
        "\n",
        "urls = {\n",
        "    '1':  'https://raw.githubusercontent.com/vishalbakshi/fastbook-benchmark/refs/heads/main/data/01_intro.ipynb',\n",
        "    '2':  'https://raw.githubusercontent.com/vishalbakshi/fastbook-benchmark/refs/heads/main/data/02_production.ipynb',\n",
        "    '4':  'https://raw.githubusercontent.com/vishalbakshi/fastbook-benchmark/refs/heads/main/data/04_mnist_basics.ipynb',\n",
        "    '8':  'https://raw.githubusercontent.com/vishalbakshi/fastbook-benchmark/refs/heads/main/data/08_collab.ipynb',\n",
        "    '9':  'https://raw.githubusercontent.com/vishalbakshi/fastbook-benchmark/refs/heads/main/data/09_tabular.ipynb',\n",
        "    '10': 'https://raw.githubusercontent.com/vishalbakshi/fastbook-benchmark/refs/heads/main/data/10_nlp.ipynb',\n",
        "    '13': 'https://raw.githubusercontent.com/vishalbakshi/fastbook-benchmark/refs/heads/main/data/13_convolutions.ipynb'\n",
        "}\n",
        "\n",
        "nbs = {\n",
        "    '1': '01_intro.ipynb',\n",
        "    '2': '02_production.ipynb',\n",
        "    '4': '04_mnist_basics.ipynb',\n",
        "    '8': '08_collab.ipynb',\n",
        "    '9': '09_tabular.ipynb',\n",
        "    '10': '10_nlp.ipynb',\n",
        "    '13': '13_convolutions.ipynb'\n",
        "}\n",
        "\n",
        "for chapter, nb in nbs.items(): download_file(urls[chapter], fn=nb)"
      ],
      "metadata": {
        "id": "h8i8VmKSU-C0"
      },
      "execution_count": 2,
      "outputs": []
    },
    {
      "cell_type": "markdown",
      "source": [
        "### Helper Functions"
      ],
      "metadata": {
        "id": "zNCJhBnGVhnA"
      }
    },
    {
      "cell_type": "code",
      "source": [
        "def chunk_string(text, n_chunks):\n",
        "    skip = int(len(text) / n_chunks)\n",
        "    return [text[i:i + skip] for i in range(0, len(text), skip)]"
      ],
      "metadata": {
        "id": "skXGJ30xVOvd"
      },
      "execution_count": 4,
      "outputs": []
    },
    {
      "cell_type": "code",
      "source": [
        "def notebook_to_string(path):\n",
        "    with open(path, 'r', encoding='utf-8') as f: notebook = json.load(f)\n",
        "\n",
        "    all_text = ''\n",
        "\n",
        "    for cell in notebook['cells']:\n",
        "        if cell['cell_type'] == 'markdown' and any('## Questionnaire' in line for line in cell['source']): break\n",
        "        if cell['cell_type'] in ['markdown', 'code']: all_text += ''.join(cell['source']) + '\\n'\n",
        "\n",
        "    return all_text"
      ],
      "metadata": {
        "id": "4HWKPWfvVWq_"
      },
      "execution_count": 5,
      "outputs": []
    },
    {
      "cell_type": "markdown",
      "source": [
        "## Converting Notebook to Strings"
      ],
      "metadata": {
        "id": "jYknfEl1VpQw"
      }
    },
    {
      "cell_type": "code",
      "source": [
        "data = {}\n",
        "n_chars = 0\n",
        "\n",
        "for chapter, nb in nbs.items():\n",
        "    data[chapter] = chunk_string(notebook_to_string(nb), 2)\n",
        "    for c in data[chapter]: n_chars += len(c)\n",
        "\n",
        "assert n_chars == 503769"
      ],
      "metadata": {
        "id": "ZGgOvhqr2E8J"
      },
      "execution_count": 6,
      "outputs": []
    },
    {
      "cell_type": "code",
      "source": [
        "for chapter, nb in nbs.items():\n",
        "    for c in data[chapter]: print(chapter, len(c))"
      ],
      "metadata": {
        "colab": {
          "base_uri": "https://localhost:8080/"
        },
        "id": "FpWSW1aI4Vw9",
        "outputId": "4c259145-0658-4ec3-c194-9fba7e5dfa8f"
      },
      "execution_count": 7,
      "outputs": [
        {
          "output_type": "stream",
          "name": "stdout",
          "text": [
            "1 55418\n",
            "1 55418\n",
            "2 37366\n",
            "2 37366\n",
            "2 1\n",
            "4 45540\n",
            "4 45540\n",
            "4 1\n",
            "8 20067\n",
            "8 20067\n",
            "8 1\n",
            "9 44438\n",
            "9 44438\n",
            "10 22143\n",
            "10 22143\n",
            "13 26911\n",
            "13 26911\n"
          ]
        }
      ]
    },
    {
      "cell_type": "markdown",
      "source": [
        "## Chunking the Documents"
      ],
      "metadata": {
        "id": "D0FGAXivWSJN"
      }
    },
    {
      "cell_type": "code",
      "source": [
        "chunk_size = 500\n",
        "chunk_size"
      ],
      "metadata": {
        "colab": {
          "base_uri": "https://localhost:8080/"
        },
        "id": "X80atSyO2FYh",
        "outputId": "481e9076-2da9-45a4-b6ca-f47f5cc846df"
      },
      "execution_count": 8,
      "outputs": [
        {
          "output_type": "execute_result",
          "data": {
            "text/plain": [
              "500"
            ]
          },
          "metadata": {},
          "execution_count": 8
        }
      ]
    },
    {
      "cell_type": "code",
      "source": [
        "corpus_processor.process_corpus"
      ],
      "metadata": {
        "colab": {
          "base_uri": "https://localhost:8080/",
          "height": 139
        },
        "id": "7JTJShBd4hvo",
        "outputId": "198d0ba3-afa3-4bc4-eb1b-f4f77f0a7063"
      },
      "execution_count": 9,
      "outputs": [
        {
          "output_type": "execute_result",
          "data": {
            "text/plain": [
              "<bound method CorpusProcessor.process_corpus of <ragatouille.data.corpus_processor.CorpusProcessor object at 0x7a880db118a0>>"
            ],
            "text/html": [
              "<div style=\"max-width:800px; border: 1px solid var(--colab-border-color);\"><style>\n",
              "      pre.function-repr-contents {\n",
              "        overflow-x: auto;\n",
              "        padding: 8px 12px;\n",
              "        max-height: 500px;\n",
              "      }\n",
              "\n",
              "      pre.function-repr-contents.function-repr-contents-collapsed {\n",
              "        cursor: pointer;\n",
              "        max-height: 100px;\n",
              "      }\n",
              "    </style>\n",
              "    <pre style=\"white-space: initial; background:\n",
              "         var(--colab-secondary-surface-color); padding: 8px 12px;\n",
              "         border-bottom: 1px solid var(--colab-border-color);\"><b>ragatouille.data.corpus_processor.CorpusProcessor.process_corpus</b><br/>def process_corpus(documents: list[str], document_ids: Optional[list[str]]=None, **splitter_kwargs) -&gt; List[dict]</pre><pre class=\"function-repr-contents function-repr-contents-collapsed\" style=\"\"><a class=\"filepath\" style=\"display:none\" href=\"#\">/usr/local/lib/python3.10/dist-packages/ragatouille/data/corpus_processor.py</a>&lt;no docstring&gt;</pre>\n",
              "      <script>\n",
              "      if (google.colab.kernel.accessAllowed && google.colab.files && google.colab.files.view) {\n",
              "        for (const element of document.querySelectorAll('.filepath')) {\n",
              "          element.style.display = 'block'\n",
              "          element.onclick = (event) => {\n",
              "            event.preventDefault();\n",
              "            event.stopPropagation();\n",
              "            google.colab.files.view(element.textContent, 16);\n",
              "          };\n",
              "        }\n",
              "      }\n",
              "      for (const element of document.querySelectorAll('.function-repr-contents')) {\n",
              "        element.onclick = (event) => {\n",
              "          event.preventDefault();\n",
              "          event.stopPropagation();\n",
              "          element.classList.toggle('function-repr-contents-collapsed');\n",
              "        };\n",
              "      }\n",
              "      </script>\n",
              "      </div>"
            ]
          },
          "metadata": {},
          "execution_count": 9
        }
      ]
    },
    {
      "cell_type": "code",
      "source": [
        "documents = corpus_processor.process_corpus(data['1'], chunk_size=chunk_size)\n",
        "assert len(documents) == 57"
      ],
      "metadata": {
        "id": "D0eovGm14pMZ"
      },
      "execution_count": 10,
      "outputs": []
    },
    {
      "cell_type": "code",
      "source": [
        "documents[0]"
      ],
      "metadata": {
        "colab": {
          "base_uri": "https://localhost:8080/"
        },
        "id": "VBJz66W04w_9",
        "outputId": "025fabc7-c186-4ece-e3b7-6df897a417d2"
      },
      "execution_count": 11,
      "outputs": [
        {
          "output_type": "execute_result",
          "data": {
            "text/plain": [
              "{'document_id': 'b031a720-b21a-4cd5-8c55-a8d99e50edcf',\n",
              " 'content': '#hide\\n! [ -e /content ] && pip install -Uqq fastbook\\nimport fastbook\\nfastbook.setup_book()\\n#hide\\nfrom fastbook import *\\n# Your Deep Learning Journey\\nHello, and thank you for letting us join you on your deep learning journey, however far along that you may be! In this chapter, we will tell you a little bit more about what to expect in this book, introduce the key concepts behind deep learning, and train our first models on different tasks. It doesn\\'t matter if you don\\'t come from a technical or a mathematical background (though it\\'s okay if you do too!); we wrote this book to make deep learning accessible to as many people as possible.\\n## Deep Learning Is for Everyone\\nA lot of people assume that you need all kinds of hard-to-find stuff to get great results with deep learning, but as you\\'ll see in this book, those people are wrong. <<myths>> is a list of a few thing you *absolutely don\\'t need* to do world-class deep learning.\\n\\n```asciidoc\\n[[myths]]\\n.What you don\\'t need to do deep learning\\n[options=\"header\"]\\n|======\\n| Myth (don\\'t need) | Truth\\n| Lots of math | Just high school math is sufficient\\n| Lots of data | We\\'ve seen record-breaking results with <50 items of data\\n| Lots of expensive computers | You can get what you need for state of the art work for free\\n|======\\n```\\n\\nDeep learning is a computer technique to extract and transform data–-with use cases ranging from human speech recognition to animal imagery classification–-by using multiple layers of neural networks. Each of these layers takes its inputs from previous layers and progressively refines them. The layers are trained by algorithms that minimize their errors and improve their accuracy. In this way, the network learns to perform a specified task. We will discuss training algorithms in detail in the next section.\\nDeep learning has power, flexibility, and simplicity. That\\'s why we believe it should be applied across many disciplines. These include the social and physical sciences, the arts, medicine, finance, scientific research, and many more. To give a personal example, despite having no background in medicine, Jeremy started Enlitic, a company that uses deep learning algorithms to diagnose illness and disease.'}"
            ]
          },
          "metadata": {},
          "execution_count": 11
        }
      ]
    },
    {
      "cell_type": "code",
      "source": [
        "def process_documents(text, chunk_size):\n",
        "    documents = corpus_processor.process_corpus(text, chunk_size=chunk_size)\n",
        "    documents = [doc['content'] for doc in documents]\n",
        "    return documents"
      ],
      "metadata": {
        "id": "MJIsj-JJ43Ny"
      },
      "execution_count": 13,
      "outputs": []
    },
    {
      "cell_type": "code",
      "source": [
        "assert len(process_documents(data['1'], chunk_size)) == 57"
      ],
      "metadata": {
        "id": "8uZps6j95Dry"
      },
      "execution_count": 15,
      "outputs": []
    },
    {
      "cell_type": "markdown",
      "source": [
        "### Checking Token Size"
      ],
      "metadata": {
        "id": "yzChJb6mXRjr"
      }
    },
    {
      "cell_type": "code",
      "source": [
        "SentenceSplitter"
      ],
      "metadata": {
        "colab": {
          "base_uri": "https://localhost:8080/",
          "height": 191
        },
        "id": "z-qXt27d2HZa",
        "outputId": "ff63d06d-3af8-4213-d971-4e860ec85dda"
      },
      "execution_count": 16,
      "outputs": [
        {
          "output_type": "execute_result",
          "data": {
            "text/plain": [
              "llama_index.core.node_parser.text.sentence.SentenceSplitter"
            ],
            "text/html": [
              "<div style=\"max-width:800px; border: 1px solid var(--colab-border-color);\"><style>\n",
              "      pre.function-repr-contents {\n",
              "        overflow-x: auto;\n",
              "        padding: 8px 12px;\n",
              "        max-height: 500px;\n",
              "      }\n",
              "\n",
              "      pre.function-repr-contents.function-repr-contents-collapsed {\n",
              "        cursor: pointer;\n",
              "        max-height: 100px;\n",
              "      }\n",
              "    </style>\n",
              "    <pre style=\"white-space: initial; background:\n",
              "         var(--colab-secondary-surface-color); padding: 8px 12px;\n",
              "         border-bottom: 1px solid var(--colab-border-color);\"><b>llama_index.core.node_parser.text.sentence.SentenceSplitter</b><br/>def __call__(nodes: Sequence[BaseNode], **kwargs: Any) -&gt; List[BaseNode]</pre><pre class=\"function-repr-contents function-repr-contents-collapsed\" style=\"\"><a class=\"filepath\" style=\"display:none\" href=\"#\">/usr/local/lib/python3.10/dist-packages/llama_index/core/node_parser/text/sentence.py</a>Parse text with a preference for complete sentences.\n",
              "\n",
              "In general, this class tries to keep sentences and paragraphs together. Therefore\n",
              "compared to the original TokenTextSplitter, there are less likely to be\n",
              "hanging sentences or parts of sentences at the end of the node chunk.</pre>\n",
              "      <script>\n",
              "      if (google.colab.kernel.accessAllowed && google.colab.files && google.colab.files.view) {\n",
              "        for (const element of document.querySelectorAll('.filepath')) {\n",
              "          element.style.display = 'block'\n",
              "          element.onclick = (event) => {\n",
              "            event.preventDefault();\n",
              "            event.stopPropagation();\n",
              "            google.colab.files.view(element.textContent, 34);\n",
              "          };\n",
              "        }\n",
              "      }\n",
              "      for (const element of document.querySelectorAll('.function-repr-contents')) {\n",
              "        element.onclick = (event) => {\n",
              "          event.preventDefault();\n",
              "          event.stopPropagation();\n",
              "          element.classList.toggle('function-repr-contents-collapsed');\n",
              "        };\n",
              "      }\n",
              "      </script>\n",
              "      </div>"
            ]
          },
          "metadata": {},
          "execution_count": 16
        }
      ]
    },
    {
      "cell_type": "code",
      "source": [
        "chunk_overlap = min(chunk_size /4, min(chunk_size/2, 64))\n",
        "chunk_overlap"
      ],
      "metadata": {
        "colab": {
          "base_uri": "https://localhost:8080/"
        },
        "id": "JYJKRUXf5blF",
        "outputId": "090c22db-c67d-4156-f28f-60f350d08110"
      },
      "execution_count": 17,
      "outputs": [
        {
          "output_type": "execute_result",
          "data": {
            "text/plain": [
              "64"
            ]
          },
          "metadata": {},
          "execution_count": 17
        }
      ]
    },
    {
      "cell_type": "code",
      "source": [
        "node_parser = SentenceSplitter(chunk_size=chunk_size, chunk_overlap=chunk_overlap)\n",
        "node_parser._token_size"
      ],
      "metadata": {
        "colab": {
          "base_uri": "https://localhost:8080/",
          "height": 121
        },
        "id": "Fvo-wKHJ5Uqt",
        "outputId": "4eda39da-f027-40a7-a7f0-a4211b56cdc5"
      },
      "execution_count": 18,
      "outputs": [
        {
          "output_type": "execute_result",
          "data": {
            "text/plain": [
              "<bound method SentenceSplitter._token_size of SentenceSplitter(include_metadata=True, include_prev_next_rel=True, callback_manager=<llama_index.core.callbacks.base.CallbackManager object at 0x7a8686eb5e70>, id_func=<function default_id_func at 0x7a873c5515a0>, chunk_size=500, chunk_overlap=64, separator=' ', paragraph_separator='\\n\\n\\n', secondary_chunking_regex='[^,.;。？！]+[,.;。？！]?')>"
            ],
            "text/html": [
              "<div style=\"max-width:800px; border: 1px solid var(--colab-border-color);\"><style>\n",
              "      pre.function-repr-contents {\n",
              "        overflow-x: auto;\n",
              "        padding: 8px 12px;\n",
              "        max-height: 500px;\n",
              "      }\n",
              "\n",
              "      pre.function-repr-contents.function-repr-contents-collapsed {\n",
              "        cursor: pointer;\n",
              "        max-height: 100px;\n",
              "      }\n",
              "    </style>\n",
              "    <pre style=\"white-space: initial; background:\n",
              "         var(--colab-secondary-surface-color); padding: 8px 12px;\n",
              "         border-bottom: 1px solid var(--colab-border-color);\"><b>llama_index.core.node_parser.text.sentence.SentenceSplitter._token_size</b><br/>def _token_size(text: str) -&gt; int</pre><pre class=\"function-repr-contents function-repr-contents-collapsed\" style=\"\"><a class=\"filepath\" style=\"display:none\" href=\"#\">/usr/local/lib/python3.10/dist-packages/llama_index/core/node_parser/text/sentence.py</a>&lt;no docstring&gt;</pre>\n",
              "      <script>\n",
              "      if (google.colab.kernel.accessAllowed && google.colab.files && google.colab.files.view) {\n",
              "        for (const element of document.querySelectorAll('.filepath')) {\n",
              "          element.style.display = 'block'\n",
              "          element.onclick = (event) => {\n",
              "            event.preventDefault();\n",
              "            event.stopPropagation();\n",
              "            google.colab.files.view(element.textContent, 307);\n",
              "          };\n",
              "        }\n",
              "      }\n",
              "      for (const element of document.querySelectorAll('.function-repr-contents')) {\n",
              "        element.onclick = (event) => {\n",
              "          event.preventDefault();\n",
              "          event.stopPropagation();\n",
              "          element.classList.toggle('function-repr-contents-collapsed');\n",
              "        };\n",
              "      }\n",
              "      </script>\n",
              "      </div>"
            ]
          },
          "metadata": {},
          "execution_count": 18
        }
      ]
    },
    {
      "cell_type": "code",
      "source": [
        "doc = documents[0]\n",
        "doc"
      ],
      "metadata": {
        "colab": {
          "base_uri": "https://localhost:8080/"
        },
        "id": "LWwZZ0Uh5sUR",
        "outputId": "4bbde74b-f505-40bb-e934-d2a89e41297f"
      },
      "execution_count": 19,
      "outputs": [
        {
          "output_type": "execute_result",
          "data": {
            "text/plain": [
              "{'document_id': 'b031a720-b21a-4cd5-8c55-a8d99e50edcf',\n",
              " 'content': '#hide\\n! [ -e /content ] && pip install -Uqq fastbook\\nimport fastbook\\nfastbook.setup_book()\\n#hide\\nfrom fastbook import *\\n# Your Deep Learning Journey\\nHello, and thank you for letting us join you on your deep learning journey, however far along that you may be! In this chapter, we will tell you a little bit more about what to expect in this book, introduce the key concepts behind deep learning, and train our first models on different tasks. It doesn\\'t matter if you don\\'t come from a technical or a mathematical background (though it\\'s okay if you do too!); we wrote this book to make deep learning accessible to as many people as possible.\\n## Deep Learning Is for Everyone\\nA lot of people assume that you need all kinds of hard-to-find stuff to get great results with deep learning, but as you\\'ll see in this book, those people are wrong. <<myths>> is a list of a few thing you *absolutely don\\'t need* to do world-class deep learning.\\n\\n```asciidoc\\n[[myths]]\\n.What you don\\'t need to do deep learning\\n[options=\"header\"]\\n|======\\n| Myth (don\\'t need) | Truth\\n| Lots of math | Just high school math is sufficient\\n| Lots of data | We\\'ve seen record-breaking results with <50 items of data\\n| Lots of expensive computers | You can get what you need for state of the art work for free\\n|======\\n```\\n\\nDeep learning is a computer technique to extract and transform data–-with use cases ranging from human speech recognition to animal imagery classification–-by using multiple layers of neural networks. Each of these layers takes its inputs from previous layers and progressively refines them. The layers are trained by algorithms that minimize their errors and improve their accuracy. In this way, the network learns to perform a specified task. We will discuss training algorithms in detail in the next section.\\nDeep learning has power, flexibility, and simplicity. That\\'s why we believe it should be applied across many disciplines. These include the social and physical sciences, the arts, medicine, finance, scientific research, and many more. To give a personal example, despite having no background in medicine, Jeremy started Enlitic, a company that uses deep learning algorithms to diagnose illness and disease.'}"
            ]
          },
          "metadata": {},
          "execution_count": 19
        }
      ]
    },
    {
      "cell_type": "code",
      "source": [
        "node_parser._token_size(doc['content'])"
      ],
      "metadata": {
        "colab": {
          "base_uri": "https://localhost:8080/"
        },
        "id": "hH8Xj_Ox5voY",
        "outputId": "874c6102-5b94-4457-9a1d-19bacd8b35c8"
      },
      "execution_count": 21,
      "outputs": [
        {
          "output_type": "execute_result",
          "data": {
            "text/plain": [
              "475"
            ]
          },
          "metadata": {},
          "execution_count": 21
        }
      ]
    },
    {
      "cell_type": "code",
      "source": [
        "documents = process_documents(data['1'], chunk_size)\n",
        "len(documents)"
      ],
      "metadata": {
        "colab": {
          "base_uri": "https://localhost:8080/"
        },
        "id": "hY6QHOmn6ETj",
        "outputId": "273ece03-e8c0-4510-84f0-24cc6aafc9ff"
      },
      "execution_count": 22,
      "outputs": [
        {
          "output_type": "execute_result",
          "data": {
            "text/plain": [
              "57"
            ]
          },
          "metadata": {},
          "execution_count": 22
        }
      ]
    },
    {
      "cell_type": "code",
      "source": [
        "toks = []\n",
        "for doc in documents: toks.append(node_parser._token_size(doc))"
      ],
      "metadata": {
        "id": "WVjBVPxA58ym"
      },
      "execution_count": 23,
      "outputs": []
    },
    {
      "cell_type": "code",
      "source": [
        "toks = pd.Series(toks)\n",
        "toks.describe()"
      ],
      "metadata": {
        "colab": {
          "base_uri": "https://localhost:8080/",
          "height": 335
        },
        "id": "QjkDdVb16Ioh",
        "outputId": "056c5247-61aa-4405-a98d-52d05cdb2659"
      },
      "execution_count": 24,
      "outputs": [
        {
          "output_type": "execute_result",
          "data": {
            "text/plain": [
              "count     57.000000\n",
              "mean     456.298246\n",
              "std       63.525013\n",
              "min       92.000000\n",
              "25%      457.000000\n",
              "50%      471.000000\n",
              "75%      482.000000\n",
              "max      495.000000\n",
              "dtype: float64"
            ],
            "text/html": [
              "<div>\n",
              "<style scoped>\n",
              "    .dataframe tbody tr th:only-of-type {\n",
              "        vertical-align: middle;\n",
              "    }\n",
              "\n",
              "    .dataframe tbody tr th {\n",
              "        vertical-align: top;\n",
              "    }\n",
              "\n",
              "    .dataframe thead th {\n",
              "        text-align: right;\n",
              "    }\n",
              "</style>\n",
              "<table border=\"1\" class=\"dataframe\">\n",
              "  <thead>\n",
              "    <tr style=\"text-align: right;\">\n",
              "      <th></th>\n",
              "      <th>0</th>\n",
              "    </tr>\n",
              "  </thead>\n",
              "  <tbody>\n",
              "    <tr>\n",
              "      <th>count</th>\n",
              "      <td>57.000000</td>\n",
              "    </tr>\n",
              "    <tr>\n",
              "      <th>mean</th>\n",
              "      <td>456.298246</td>\n",
              "    </tr>\n",
              "    <tr>\n",
              "      <th>std</th>\n",
              "      <td>63.525013</td>\n",
              "    </tr>\n",
              "    <tr>\n",
              "      <th>min</th>\n",
              "      <td>92.000000</td>\n",
              "    </tr>\n",
              "    <tr>\n",
              "      <th>25%</th>\n",
              "      <td>457.000000</td>\n",
              "    </tr>\n",
              "    <tr>\n",
              "      <th>50%</th>\n",
              "      <td>471.000000</td>\n",
              "    </tr>\n",
              "    <tr>\n",
              "      <th>75%</th>\n",
              "      <td>482.000000</td>\n",
              "    </tr>\n",
              "    <tr>\n",
              "      <th>max</th>\n",
              "      <td>495.000000</td>\n",
              "    </tr>\n",
              "  </tbody>\n",
              "</table>\n",
              "</div><br><label><b>dtype:</b> float64</label>"
            ]
          },
          "metadata": {},
          "execution_count": 24
        }
      ]
    },
    {
      "cell_type": "markdown",
      "source": [
        "### Chunking All Documents"
      ],
      "metadata": {
        "id": "CfhLXl4CZyfY"
      }
    },
    {
      "cell_type": "code",
      "source": [
        "def get_docs(data, chunk_size):\n",
        "    all_docs = []\n",
        "    for chapter, text in data.items():\n",
        "        documents = process_documents(text, chunk_size=chunk_size)\n",
        "        all_docs.extend(documents)\n",
        "    return all_docs"
      ],
      "metadata": {
        "id": "RuDSTnko2KCq"
      },
      "execution_count": 25,
      "outputs": []
    },
    {
      "cell_type": "code",
      "source": [
        "all_docs = get_docs(data, 500)\n",
        "assert len(all_docs) == 271"
      ],
      "metadata": {
        "id": "sRVUqarS6fts"
      },
      "execution_count": 27,
      "outputs": []
    },
    {
      "cell_type": "code",
      "source": [
        "def tok_dist(data, chunk_size):\n",
        "    toks = []\n",
        "    documents = get_docs(data, chunk_size)\n",
        "    for doc in documents: toks.append(node_parser._token_size(doc))\n",
        "    toks = pd.Series(toks)\n",
        "    return toks"
      ],
      "metadata": {
        "id": "y15cE9NV6pQR"
      },
      "execution_count": 28,
      "outputs": []
    },
    {
      "cell_type": "code",
      "source": [
        "tok_dist(data, chunk_size=100).describe()"
      ],
      "metadata": {
        "colab": {
          "base_uri": "https://localhost:8080/",
          "height": 335
        },
        "id": "rTclbfn062I3",
        "outputId": "5d0f74d4-4b0d-4f8b-a3dd-bad25c7209c5"
      },
      "execution_count": 29,
      "outputs": [
        {
          "output_type": "execute_result",
          "data": {
            "text/plain": [
              "count    1558.000000\n",
              "mean       80.683569\n",
              "std        15.527070\n",
              "min        11.000000\n",
              "25%        73.000000\n",
              "50%        84.000000\n",
              "75%        92.000000\n",
              "max       121.000000\n",
              "dtype: float64"
            ],
            "text/html": [
              "<div>\n",
              "<style scoped>\n",
              "    .dataframe tbody tr th:only-of-type {\n",
              "        vertical-align: middle;\n",
              "    }\n",
              "\n",
              "    .dataframe tbody tr th {\n",
              "        vertical-align: top;\n",
              "    }\n",
              "\n",
              "    .dataframe thead th {\n",
              "        text-align: right;\n",
              "    }\n",
              "</style>\n",
              "<table border=\"1\" class=\"dataframe\">\n",
              "  <thead>\n",
              "    <tr style=\"text-align: right;\">\n",
              "      <th></th>\n",
              "      <th>0</th>\n",
              "    </tr>\n",
              "  </thead>\n",
              "  <tbody>\n",
              "    <tr>\n",
              "      <th>count</th>\n",
              "      <td>1558.000000</td>\n",
              "    </tr>\n",
              "    <tr>\n",
              "      <th>mean</th>\n",
              "      <td>80.683569</td>\n",
              "    </tr>\n",
              "    <tr>\n",
              "      <th>std</th>\n",
              "      <td>15.527070</td>\n",
              "    </tr>\n",
              "    <tr>\n",
              "      <th>min</th>\n",
              "      <td>11.000000</td>\n",
              "    </tr>\n",
              "    <tr>\n",
              "      <th>25%</th>\n",
              "      <td>73.000000</td>\n",
              "    </tr>\n",
              "    <tr>\n",
              "      <th>50%</th>\n",
              "      <td>84.000000</td>\n",
              "    </tr>\n",
              "    <tr>\n",
              "      <th>75%</th>\n",
              "      <td>92.000000</td>\n",
              "    </tr>\n",
              "    <tr>\n",
              "      <th>max</th>\n",
              "      <td>121.000000</td>\n",
              "    </tr>\n",
              "  </tbody>\n",
              "</table>\n",
              "</div><br><label><b>dtype:</b> float64</label>"
            ]
          },
          "metadata": {},
          "execution_count": 29
        }
      ]
    },
    {
      "cell_type": "code",
      "source": [
        "tok_dist(data, chunk_size=256).describe()"
      ],
      "metadata": {
        "colab": {
          "base_uri": "https://localhost:8080/",
          "height": 335
        },
        "id": "STPRyazN65fn",
        "outputId": "35fb512a-ed0c-42de-a9a8-fd5eb9e78794"
      },
      "execution_count": 30,
      "outputs": [
        {
          "output_type": "execute_result",
          "data": {
            "text/plain": [
              "count    602.000000\n",
              "mean     223.538206\n",
              "std       31.262019\n",
              "min       43.000000\n",
              "25%      218.000000\n",
              "50%      233.000000\n",
              "75%      243.000000\n",
              "max      299.000000\n",
              "dtype: float64"
            ],
            "text/html": [
              "<div>\n",
              "<style scoped>\n",
              "    .dataframe tbody tr th:only-of-type {\n",
              "        vertical-align: middle;\n",
              "    }\n",
              "\n",
              "    .dataframe tbody tr th {\n",
              "        vertical-align: top;\n",
              "    }\n",
              "\n",
              "    .dataframe thead th {\n",
              "        text-align: right;\n",
              "    }\n",
              "</style>\n",
              "<table border=\"1\" class=\"dataframe\">\n",
              "  <thead>\n",
              "    <tr style=\"text-align: right;\">\n",
              "      <th></th>\n",
              "      <th>0</th>\n",
              "    </tr>\n",
              "  </thead>\n",
              "  <tbody>\n",
              "    <tr>\n",
              "      <th>count</th>\n",
              "      <td>602.000000</td>\n",
              "    </tr>\n",
              "    <tr>\n",
              "      <th>mean</th>\n",
              "      <td>223.538206</td>\n",
              "    </tr>\n",
              "    <tr>\n",
              "      <th>std</th>\n",
              "      <td>31.262019</td>\n",
              "    </tr>\n",
              "    <tr>\n",
              "      <th>min</th>\n",
              "      <td>43.000000</td>\n",
              "    </tr>\n",
              "    <tr>\n",
              "      <th>25%</th>\n",
              "      <td>218.000000</td>\n",
              "    </tr>\n",
              "    <tr>\n",
              "      <th>50%</th>\n",
              "      <td>233.000000</td>\n",
              "    </tr>\n",
              "    <tr>\n",
              "      <th>75%</th>\n",
              "      <td>243.000000</td>\n",
              "    </tr>\n",
              "    <tr>\n",
              "      <th>max</th>\n",
              "      <td>299.000000</td>\n",
              "    </tr>\n",
              "  </tbody>\n",
              "</table>\n",
              "</div><br><label><b>dtype:</b> float64</label>"
            ]
          },
          "metadata": {},
          "execution_count": 30
        }
      ]
    }
  ]
}